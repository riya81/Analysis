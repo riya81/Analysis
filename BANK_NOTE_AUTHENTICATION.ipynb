{
  "nbformat": 4,
  "nbformat_minor": 0,
  "metadata": {
    "colab": {
      "provenance": []
    },
    "kernelspec": {
      "name": "python3",
      "display_name": "Python 3"
    },
    "language_info": {
      "name": "python"
    }
  },
  "cells": [
    {
      "cell_type": "code",
      "execution_count": 3,
      "metadata": {
        "colab": {
          "base_uri": "https://localhost:8080/"
        },
        "id": "Y5E4uC6tJHbs",
        "outputId": "fda35dfb-3e13-4da1-8933-1b77894dafd8"
      },
      "outputs": [
        {
          "output_type": "stream",
          "name": "stdout",
          "text": [
            "Results for model SVC\n",
            "Correct: 546\n",
            "Incorrect: 2\n",
            "Accuracy: 99.64%\n"
          ]
        }
      ],
      "source": [
        "#import sklearn\n",
        "# pip install scikit-learn\n",
        "import csv\n",
        "import random\n",
        "from sklearn import svm\n",
        "from sklearn.linear_model import Perceptron\n",
        "from sklearn.naive_bayes import GaussianNB\n",
        "from sklearn.neighbors import KNeighborsClassifier\n",
        "#Loading Algorithm in model variable\n",
        "model = svm.SVC()\n",
        "#model = Perceptron()\n",
        "# model = KNeighborsClassifier(n_neighbors=3)\n",
        "# model = GaussianNB()\n",
        "# Read data in from file\n",
        "with open(\"banknotes.csv\") as f:\n",
        "    reader = csv.reader(f)\n",
        "    next(reader)\n",
        "    data = []\n",
        "    for row in reader:\n",
        "      data.append({\"feature\": [float(cell) for cell in row[:4]],\n",
        "        \"label\": \"Authentic\" if row[4] == \"0\" else \"Counterfeit\"\n",
        "    })\n",
        "# Separate data into training and testing groups\n",
        "holdout = int(0.40 * len(data))\n",
        "random.shuffle(data)\n",
        "testing = data[:holdout]\n",
        "training = data[holdout:]\n",
        "# Train model on training set\n",
        "X_training = [row[\"feature\"] for row in training]\n",
        "y_training = [row[\"label\"] for row in training]\n",
        "model.fit(X_training, y_training)\n",
        "# Make predictions on the testing set\n",
        "X_testing = [row[\"feature\"] for row in testing]\n",
        "y_testing = [row[\"label\"] for row in testing]\n",
        "predictions = model.predict(X_testing)\n",
        "# Compute how well we performed\n",
        "correct = 0\n",
        "incorrect = 0\n",
        "total = 0\n",
        "for actual, predicted in zip(y_testing, predictions):\n",
        "    total += 1\n",
        "    if actual == predicted:\n",
        "        correct += 1\n",
        "    else:\n",
        "        incorrect += 1\n",
        "# Print results\n",
        "print(f\"Results for model {type(model).__name__}\")\n",
        "print(f\"Correct: {correct}\")\n",
        "print(f\"Incorrect: {incorrect}\")\n",
        "print(f\"Accuracy: {100 * correct / total:.2f}%\")"
      ]
    }
  ]
}